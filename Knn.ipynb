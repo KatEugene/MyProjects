{
  "nbformat": 4,
  "nbformat_minor": 0,
  "metadata": {
    "colab": {
      "name": "Untitled1.ipynb",
      "provenance": [],
      "collapsed_sections": [],
      "authorship_tag": "ABX9TyND/NmHB/y3FSM5ZJ6mkkyQ",
      "include_colab_link": true
    },
    "kernelspec": {
      "name": "python3",
      "display_name": "Python 3"
    }
  },
  "cells": [
    {
      "cell_type": "markdown",
      "metadata": {
        "id": "view-in-github",
        "colab_type": "text"
      },
      "source": [
        "<a href=\"https://colab.research.google.com/github/KatEugene/MyProjects/blob/master/Knn.ipynb\" target=\"_parent\"><img src=\"https://colab.research.google.com/assets/colab-badge.svg\" alt=\"Open In Colab\"/></a>"
      ]
    },
    {
      "cell_type": "code",
      "metadata": {
        "id": "SwxqXR6lAFXd",
        "colab_type": "code",
        "colab": {}
      },
      "source": [
        "import numpy as np\n",
        "from math import sqrt\n",
        "from collections import Counter\n",
        "\n",
        "\n",
        "def calc_distance(a, b):\n",
        "  return sqrt(sum((a - b) ** 2))\n",
        "\n",
        "\n",
        "class KnnClassfier:\n",
        "  def __init__(self, k):\n",
        "    self.k = k\n",
        "    self.X = []\n",
        "    self.y = []\n",
        "  \n",
        "  def fit(self, X, y):\n",
        "    self.X = X\n",
        "    self.y = y\n",
        "  \n",
        "  def predict_one(self, x_new):\n",
        "    result = []\n",
        "    for i, x in enumerate(self.X):\n",
        "      distance = calc_distance(x, x_new)\n",
        "      result.append({'dist': distance, 'cls': self.y[i]})\n",
        "    result = sorted(result, key=lambda x: x['dist'])\n",
        "    k_nearest = result[:self.k]\n",
        "    max_p = {}\n",
        "    for elem in k_nearest:\n",
        "      if elem[\"cls\"] not in max_p.keys():\n",
        "        max_p[elem[\"cls\"]] = 1\n",
        "      else:\n",
        "        max_p[elem[\"cls\"]] = max_p.get(elem[\"cls\"]) + 1\n",
        "    max_res = 0\n",
        "    max_class = 0\n",
        "    for elem in max_p.keys():\n",
        "      if max_p.get(elem) > max_res:\n",
        "        max_res = max_p.get(elem)\n",
        "        max_class = elem\n",
        "    return max_class\n",
        "\n",
        "  def predict(self, X):\n",
        "    y = np.array(len(X))\n",
        "    for i, v in enumerate(X):\n",
        "      y[i] = self.predict_one(v)\n",
        "    return y"
      ],
      "execution_count": 0,
      "outputs": []
    }
  ]
}